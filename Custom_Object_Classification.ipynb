{
 "cells": [
  {
   "cell_type": "code",
   "execution_count": 1,
   "id": "91d57145",
   "metadata": {},
   "outputs": [],
   "source": [
    "import numpy as np\n",
    "import pandas as pd\n",
    "import random\n",
    "import os\n",
    "import seaborn as sns\n",
    "import matplotlib.pyplot as plt\n",
    "import tensorflow as tf\n",
    "from sklearn.metrics import accuracy_score, confusion_matrix\n",
    "from sklearn.utils.class_weight import compute_class_weight\n",
    "from tensorflow.keras.models import Sequential, load_model, save_model, Model\n",
    "from tensorflow.keras.layers import Dense, Dropout, Conv2D, MaxPool2D, Flatten, BatchNormalization, LeakyReLU\n",
    "from tensorflow.keras.optimizers import Adam, Adagrad, RMSprop, SGD\n",
    "from tensorflow.keras.callbacks import EarlyStopping, ModelCheckpoint\n",
    "from tensorflow.keras.preprocessing.image import ImageDataGenerator, load_img, img_to_array\n",
    "from tensorflow.keras.utils import plot_model\n",
    "from sklearn.metrics import accuracy_score, accuracy_score, confusion_matrix, classification_report\n",
    "from collections import Counter"
   ]
  },
  {
   "cell_type": "code",
   "execution_count": 2,
   "id": "4adab0d8",
   "metadata": {},
   "outputs": [],
   "source": [
    "data_dir = \"GAIP_data\""
   ]
  },
  {
   "cell_type": "code",
   "execution_count": 3,
   "id": "896ff3e2",
   "metadata": {},
   "outputs": [],
   "source": [
    "train_dir = data_dir + \"//train//\"\n",
    "val_dir = data_dir + \"//val//\"\n",
    "test_dir = data_dir + \"//test//\""
   ]
  },
  {
   "cell_type": "code",
   "execution_count": 4,
   "id": "82e2e81d",
   "metadata": {},
   "outputs": [],
   "source": [
    "dim1 = []\n",
    "dim2 = []\n",
    "for sub_folders in os.listdir(train_dir):\n",
    "    for imgs in os.listdir(train_dir + sub_folders):\n",
    "        img = plt.imread(train_dir + sub_folders +'//' + imgs)\n",
    "        dim1.append(img.shape[0])\n",
    "        dim2.append(img.shape[1])"
   ]
  },
  {
   "cell_type": "code",
   "execution_count": 5,
   "id": "dc76080f",
   "metadata": {},
   "outputs": [
    {
     "name": "stdout",
     "output_type": "stream",
     "text": [
      "Average dimensions of training images: (331,390)\n"
     ]
    }
   ],
   "source": [
    "dim1 = round(np.mean(dim1))\n",
    "dim2 = round(np.mean(dim2))\n",
    "print(\"Average dimensions of training images: ({},{})\".format(dim1,dim2))"
   ]
  },
  {
   "cell_type": "code",
   "execution_count": 6,
   "id": "9a948f56",
   "metadata": {},
   "outputs": [],
   "source": [
    "animal_class_nos = len(os.listdir(train_dir+\"animal\"))\n",
    "bench_class_nos = len(os.listdir(train_dir+\"bench\"))\n",
    "bike_class_nos = len(os.listdir(train_dir+\"bike\"))\n",
    "car_class_nos = len(os.listdir(train_dir+\"car\"))\n",
    "fire_hyrdrant_class_nos = len(os.listdir(train_dir+\"fire_hydrant\"))\n",
    "person_class_nos = len(os.listdir(train_dir+\"person\"))\n",
    "sign_class_nos = len(os.listdir(train_dir+\"sign\"))"
   ]
  },
  {
   "cell_type": "code",
   "execution_count": 7,
   "id": "992d998b",
   "metadata": {},
   "outputs": [],
   "source": [
    "def show_values_on_bars(axs):\n",
    "    def _show_on_single_plot(ax):        \n",
    "        for p in ax.patches:\n",
    "            _x = p.get_x() + p.get_width() / 2\n",
    "            _y = p.get_y() + p.get_height()\n",
    "            value = '{:.2f}'.format(p.get_height())\n",
    "            ax.text(_x, _y, value, ha=\"center\") \n",
    "\n",
    "    if isinstance(axs, np.ndarray):\n",
    "        for idx, ax in np.ndenumerate(axs):\n",
    "            _show_on_single_plot(ax)\n",
    "    else:\n",
    "        _show_on_single_plot(axs)"
   ]
  },
  {
   "cell_type": "code",
   "execution_count": 8,
   "id": "8a0f1ff3",
   "metadata": {},
   "outputs": [
    {
     "data": {
      "text/plain": [
       "Text(0.5, 1.0, 'Number of images in each class')"
      ]
     },
     "execution_count": 8,
     "metadata": {},
     "output_type": "execute_result"
    },
    {
     "data": {
      "image/png": "[encoded data removed]",
      "text/plain": [
       "<Figure size 720x504 with 1 Axes>"
      ]
     },
     "metadata": {
      "needs_background": "light"
     },
     "output_type": "display_data"
    }
   ],
   "source": [
    "labels = ['animal', 'bench', 'bike', 'car', 'fire_hydrant', 'person', 'sign']\n",
    "\n",
    "fig, ax = plt.subplots(figsize=(10,7))\n",
    "ax = sns.barplot(x = labels, y = [animal_class_nos, bench_class_nos, bike_class_nos, car_class_nos, \n",
    "                                  fire_hyrdrant_class_nos, person_class_nos, sign_class_nos])\n",
    "show_values_on_bars(ax)\n",
    "plt.title(\"Number of images in each class\")"
   ]
  },
  {
   "cell_type": "code",
   "execution_count": 9,
   "id": "fce4286b",
   "metadata": {},
   "outputs": [
    {
     "name": "stdout",
     "output_type": "stream",
     "text": [
      "Found 4516 images belonging to 7 classes.\n",
      "Found 614 images belonging to 7 classes.\n",
      "Found 1101 images belonging to 7 classes.\n"
     ]
    }
   ],
   "source": [
    "data_gen = ImageDataGenerator(rescale = 1./255,\n",
    "                             shear_range = 0.2, \n",
    "                             zoom_range = 0.20,\n",
    "                             rotation_range = 7,\n",
    "                             width_shift_range=0.15,  \n",
    "                             height_shift_range=0.1,  \n",
    "                             horizontal_flip=True)\n",
    "\n",
    "train_data_gen = data_gen.flow_from_directory(train_dir,\n",
    "                                             target_size = (331,390),\n",
    "                                             batch_size = 16,\n",
    "                                              shuffle = True,\n",
    "                                             color_mode = 'rgb',\n",
    "                                             class_mode = 'categorical')\n",
    "\n",
    "val_test_gen = ImageDataGenerator(rescale = 1./255)\n",
    "\n",
    "\n",
    "val_gen = val_test_gen.flow_from_directory(val_dir,\n",
    "                                      target_size = (331, 390),\n",
    "                                      batch_size = 16,\n",
    "                                      shuffle = False,\n",
    "                                      color_mode = 'rgb',\n",
    "                                      class_mode = 'categorical')\n",
    "\n",
    "test_gen = val_test_gen.flow_from_directory(test_dir,\n",
    "                                      target_size = (331, 390),\n",
    "                                      batch_size = 16,\n",
    "                                      shuffle = False,\n",
    "                                      color_mode = 'rgb',\n",
    "                                      class_mode = 'categorical')"
   ]
  },
  {
   "cell_type": "code",
   "execution_count": 10,
   "id": "be1b5fb6",
   "metadata": {},
   "outputs": [],
   "source": [
    "counter = Counter(train_data_gen.classes)                          \n",
    "max_val = float(max(counter.values()))       \n",
    "class_weights = {class_id : max_val/num_images for class_id, num_images in counter.items()}                     "
   ]
  },
  {
   "cell_type": "code",
   "execution_count": 11,
   "id": "46bfe847",
   "metadata": {},
   "outputs": [],
   "source": [
    "model = Sequential()\n",
    "model.add(Conv2D(filters=32, kernel_size=3))\n",
    "model.add(LeakyReLU())\n",
    "model.add(MaxPool2D(pool_size=2, strides=2))\n",
    "\n",
    "model.add(Conv2D(filters = 64, kernel_size=3))\n",
    "model.add(LeakyReLU())\n",
    "model.add(MaxPool2D(pool_size=2, strides=2))\n",
    "\n",
    "model.add(Conv2D(filters = 128, kernel_size=3))\n",
    "model.add(LeakyReLU())\n",
    "model.add(MaxPool2D(pool_size=2, strides=2))\n",
    "\n",
    "model.add(Conv2D(filters = 256, kernel_size=3))\n",
    "model.add(LeakyReLU())\n",
    "model.add(MaxPool2D(pool_size=2, strides=2))\n",
    "\n",
    "model.add(Flatten())\n",
    "\n",
    "model.add(Dense(units=256))\n",
    "model.add(LeakyReLU())\n",
    "model.add(Dropout(0.1))\n",
    "\n",
    "model.add(Dense(units=7, activation='softmax'))\n",
    "\n",
    "optimizer = Adam(learning_rate=0.01, decay=1e-5)\n",
    "\n",
    "model.compile(optimizer = optimizer, \n",
    "            loss = 'categorical_crossentropy', \n",
    "            metrics = ['accuracy'])"
   ]
  },
  {
   "cell_type": "code",
   "execution_count": null,
   "id": "2cebd453",
   "metadata": {
    "scrolled": true
   },
   "outputs": [
    {
     "name": "stdout",
     "output_type": "stream",
     "text": [
      "Epoch 1/200\n",
      "283/283 [==============================] - 152s 532ms/step - loss: 3963.8602 - accuracy: 0.2022 - val_loss: 5.8129 - val_accuracy: 0.3779\n",
      "INFO:tensorflow:Assets written to: GAIP_data/smaller_model_checkpoints/assets\n",
      "Epoch 2/200\n",
      "283/283 [==============================] - 146s 516ms/step - loss: 10.5160 - accuracy: 0.3686 - val_loss: 4.5169 - val_accuracy: 0.4316\n",
      "INFO:tensorflow:Assets written to: GAIP_data/smaller_model_checkpoints/assets\n",
      "Epoch 3/200\n",
      "283/283 [==============================] - 152s 536ms/step - loss: 5.2211 - accuracy: 0.4172 - val_loss: 3.1630 - val_accuracy: 0.4544\n",
      "INFO:tensorflow:Assets written to: GAIP_data/smaller_model_checkpoints/assets\n",
      "Epoch 4/200\n",
      "283/283 [==============================] - 145s 512ms/step - loss: 4.0834 - accuracy: 0.4555 - val_loss: 4.1026 - val_accuracy: 0.3567\n",
      "Epoch 5/200\n",
      "283/283 [==============================] - 149s 527ms/step - loss: 4.5486 - accuracy: 0.4334 - val_loss: 2.7803 - val_accuracy: 0.4430\n",
      "INFO:tensorflow:Assets written to: GAIP_data/smaller_model_checkpoints/assets\n",
      "Epoch 6/200\n",
      "283/283 [==============================] - 148s 524ms/step - loss: 3.6321 - accuracy: 0.4935 - val_loss: 2.1109 - val_accuracy: 0.4853\n",
      "INFO:tensorflow:Assets written to: GAIP_data/smaller_model_checkpoints/assets\n",
      "Epoch 7/200\n",
      "283/283 [==============================] - 144s 508ms/step - loss: 3.0892 - accuracy: 0.5340 - val_loss: 2.7394 - val_accuracy: 0.4788\n",
      "Epoch 8/200\n",
      "283/283 [==============================] - 142s 502ms/step - loss: 3.2194 - accuracy: 0.5271 - val_loss: 2.2991 - val_accuracy: 0.5293\n",
      "Epoch 9/200\n",
      "283/283 [==============================] - 142s 500ms/step - loss: 2.7936 - accuracy: 0.5463 - val_loss: 2.5814 - val_accuracy: 0.5309\n",
      "Epoch 10/200\n",
      "283/283 [==============================] - 141s 499ms/step - loss: 2.7261 - accuracy: 0.5805 - val_loss: 2.6209 - val_accuracy: 0.5570\n",
      "Epoch 11/200\n",
      "283/283 [==============================] - 140s 493ms/step - loss: 2.7000 - accuracy: 0.5776 - val_loss: 2.5363 - val_accuracy: 0.5212\n",
      "Epoch 12/200\n",
      "283/283 [==============================] - 141s 499ms/step - loss: 3.0154 - accuracy: 0.5464 - val_loss: 2.6071 - val_accuracy: 0.5570\n",
      "Epoch 13/200\n",
      "283/283 [==============================] - 141s 497ms/step - loss: 2.4857 - accuracy: 0.5953 - val_loss: 2.1257 - val_accuracy: 0.5228\n",
      "Epoch 14/200\n",
      "283/283 [==============================] - 141s 499ms/step - loss: 2.6222 - accuracy: 0.5859 - val_loss: 2.7243 - val_accuracy: 0.5407\n",
      "Epoch 15/200\n",
      "283/283 [==============================] - 141s 498ms/step - loss: 2.6232 - accuracy: 0.5861 - val_loss: 2.4613 - val_accuracy: 0.5733\n",
      "Epoch 16/200\n",
      "156/283 [===============>..............] - ETA: 1:01 - loss: 2.3817 - accuracy: 0.6238"
     ]
    }
   ],
   "source": [
    "stop = EarlyStopping(patience = 10, monitor = 'val_loss')\n",
    "checkpoint = ModelCheckpoint(data_dir + '/smaller_model_checkpoints',\n",
    "                                            save_best_only=True)\n",
    "\n",
    "history = model.fit(x = train_data_gen, validation_data = val_gen, epochs = 200, shuffle = True, callbacks=[stop,checkpoint],\n",
    "                   class_weight=class_weights)"
   ]
  },
  {
   "cell_type": "code",
   "execution_count": 1,
   "id": "2c2b9968",
   "metadata": {},
   "outputs": [
    {
     "name": "stdout",
     "output_type": "stream",
     "text": [
      "Collecting pipreqs\n",
      "  Downloading pipreqs-0.4.11-py2.py3-none-any.whl (32 kB)\n",
      "Collecting docopt\n",
      "  Downloading docopt-0.6.2.tar.gz (25 kB)\n",
      "  Preparing metadata (setup.py) ... \u001b[?25ldone\n",
      "\u001b[?25hCollecting yarg\n",
      "  Downloading yarg-0.1.9-py2.py3-none-any.whl (19 kB)\n",
      "Requirement already satisfied: requests in /Users/aditikumar/opt/anaconda3/lib/python3.9/site-packages (from yarg->pipreqs) (2.26.0)\n",
      "Requirement already satisfied: idna<4,>=2.5 in /Users/aditikumar/opt/anaconda3/lib/python3.9/site-packages (from requests->yarg->pipreqs) (3.2)\n",
      "Requirement already satisfied: certifi>=2017.4.17 in /Users/aditikumar/opt/anaconda3/lib/python3.9/site-packages (from requests->yarg->pipreqs) (2022.6.15)\n",
      "Requirement already satisfied: urllib3<1.27,>=1.21.1 in /Users/aditikumar/opt/anaconda3/lib/python3.9/site-packages (from requests->yarg->pipreqs) (1.26.7)\n",
      "Requirement already satisfied: charset-normalizer~=2.0.0 in /Users/aditikumar/opt/anaconda3/lib/python3.9/site-packages (from requests->yarg->pipreqs) (2.0.4)\n",
      "Building wheels for collected packages: docopt\n",
      "  Building wheel for docopt (setup.py) ... \u001b[?25ldone\n",
      "\u001b[?25h  Created wheel for docopt: filename=docopt-0.6.2-py2.py3-none-any.whl size=13724 sha256=f16c4be0a80870e5a9cab1e223207719abcaf522c46482566430500f4b5734d1\n",
      "  Stored in directory: /Users/aditikumar/Library/Caches/pip/wheels/70/4a/46/1309fc853b8d395e60bafaf1b6df7845bdd82c95fd59dd8d2b\n",
      "Successfully built docopt\n",
      "Installing collected packages: docopt, yarg, pipreqs\n",
      "Successfully installed docopt-0.6.2 pipreqs-0.4.11 yarg-0.1.9\n",
      "Note: you may need to restart the kernel to use updated packages.\n"
     ]
    }
   ],
   "source": [
    "pip install pipreqs"
   ]
  },
  {
   "cell_type": "code",
   "execution_count": null,
   "id": "10be5c70-ed3b-4729-9faa-22ba916663fa",
   "metadata": {},
   "outputs": [],
   "source": []
  }
 ],
 "metadata": {
  "kernelspec": {
   "display_name": "Python 3 (ipykernel)",
   "language": "python",
   "name": "python3"
  },
  "language_info": {
   "codemirror_mode": {
    "name": "ipython",
    "version": 3
   },
   "file_extension": ".py",
   "mimetype": "text/x-python",
   "name": "python",
   "nbconvert_exporter": "python",
   "pygments_lexer": "ipython3",
   "version": "3.9.7"
  }
 },
 "nbformat": 4,
 "nbformat_minor": 5
}
